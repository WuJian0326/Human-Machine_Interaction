{
  "cells": [
    {
      "cell_type": "code",
      "execution_count": 151,
      "metadata": {},
      "outputs": [],
      "source": [
        "import numpy as np\n",
        "import struct\n",
        "import random"
      ]
    },
    {
      "cell_type": "code",
      "execution_count": 152,
      "metadata": {
        "colab": {
          "base_uri": "https://localhost:8080/"
        },
        "id": "Al08q_GmLDax",
        "outputId": "2cda430d-2f6a-4441-bb4b-525c6cdc2af3"
      },
      "outputs": [
        {
          "name": "stdout",
          "output_type": "stream",
          "text": [
            "torch.Size([10000, 1, 14, 14])\n",
            "torch.Size([10000])\n",
            "torch.Size([1000, 1, 14, 14])\n",
            "torch.Size([1000])\n",
            "torch.Size([10000, 1, 14, 14])\n"
          ]
        }
      ],
      "source": [
        "from scipy.io import loadmat\n",
        "import torch\n",
        "import torchvision.transforms as T\n",
        "\n",
        "mnist = loadmat('./mnist.mat') # change the file path according to the path where you put mnist.mat on your Google Drive.\n",
        "\n",
        "# convert data to torch, normalize and reshape\n",
        "data = torch.reshape(torch.from_numpy(mnist['traindata']).to(torch.float)/255.0 - 0.5, (mnist['traindata'].shape[0], 1, 28, 28))\n",
        "testdata = torch.reshape(torch.from_numpy(mnist['testdata']).to(torch.float)/255.0 - 0.5, (mnist['testdata'].shape[0], 1, 28, 28))\n",
        "\n",
        "trainlabels = torch.from_numpy(mnist['trainlabels'].ravel()[:10000])\n",
        "validlabels = torch.from_numpy(mnist['trainlabels'].ravel()[59000:])\n",
        "\n",
        "resize = T.Resize((14,14))\n",
        "data = resize(data)\n",
        "testdata = resize(testdata)\n",
        "traindata = data[:10000]\n",
        "validdata = data[59000:]\n",
        "\n",
        "\n",
        "print(traindata.shape)\n",
        "print(trainlabels.shape)\n",
        "print(validdata.shape)\n",
        "print(validlabels.shape)\n",
        "print(testdata.shape)"
      ]
    },
    {
      "cell_type": "code",
      "execution_count": 153,
      "metadata": {
        "id": "Dg8_7Mzd45HA"
      },
      "outputs": [],
      "source": [
        "from tqdm import tqdm\n",
        "import torch\n",
        "\n",
        "def train(model, device, train_loader, optimizer, criterion):\n",
        "  model.train()\n",
        "  error = 0\n",
        "  correct = 0\n",
        "  for batch_idx, (data, target) in enumerate(tqdm(train_loader)):\n",
        "    data, target = data.to(device), target.to(device)\n",
        "\n",
        "    optimizer.zero_grad()\n",
        "    output = model(data)\n",
        "\n",
        "    loss = criterion(output, target)\n",
        "    loss.backward()\n",
        "    optimizer.step()\n",
        "    model.eval()\n",
        "    pred = output.argmax(dim=1, keepdim=True)\n",
        "    correct += pred.eq(target.view_as(pred)).sum().item()\n",
        "  error = 100. * (1 - correct / len(train_loader.dataset))\n",
        "  return error\n",
        "\n",
        "\n",
        "\n",
        "\n",
        "def test(model, device, test_loader, criterion):\n",
        "  model.eval()\n",
        "  test_loss = 0\n",
        "  correct = 0\n",
        "  with torch.no_grad():\n",
        "    for data, target in test_loader:\n",
        "      data, target = data.to(device), target.to(device)\n",
        "      output = model(data)\n",
        "      test_loss += criterion(output, target).item() * data.size(0)\n",
        "      pred = output.argmax(dim=1, keepdim=True)\n",
        "      correct += pred.eq(target.view_as(pred)).sum().item()\n",
        "  test_loss /= len(test_loader.dataset)\n",
        "  accuracy = 100. * correct / len(test_loader.dataset)\n",
        "  error = 100. * (1 - correct / len(test_loader.dataset))\n",
        "  print('Test set: Average loss: {:.4f}, Accuracy: {}/{} ({:.0f}%)'.format(\n",
        "      test_loss, correct, len(test_loader.dataset), accuracy))\n",
        "  return error\n"
      ]
    },
    {
      "cell_type": "code",
      "execution_count": 154,
      "metadata": {
        "id": "0nFR56-gvcgt"
      },
      "outputs": [],
      "source": [
        "import torch.nn as nn\n",
        "import torch.nn.functional as F\n",
        "import torch.optim as optim\n",
        "from torch.utils.data import DataLoader, TensorDataset\n",
        "import torch\n",
        "\n",
        "mnist_train = TensorDataset(traindata, trainlabels)\n",
        "mnist_valid = TensorDataset(validdata, validlabels)\n",
        "mnist_train_loader = DataLoader(mnist_train, batch_size=128)\n",
        "mnist_valid_loader = DataLoader(mnist_valid, batch_size=128)\n",
        "\n",
        "device = torch.device(\"cuda\" if torch.cuda.is_available() else \"cpu\")\n",
        "n_epoch = 10\n",
        "\n",
        "class CNN(nn.Module):\n",
        "  def __init__(self):\n",
        "    super().__init__()\n",
        "    self.conv1 = nn.Conv2d(1, 32, kernel_size=3, stride=1)\n",
        "    self.pool1 = nn.MaxPool2d(kernel_size=2, stride=2)\n",
        "    self.conv2 = nn.Conv2d(32, 16, kernel_size=3, stride=1)\n",
        "    self.pool2 = nn.MaxPool2d(kernel_size=2, stride=2)\n",
        "    self.fc1 = nn.Linear(16*4, 10)\n",
        "\n",
        "\n",
        "\n",
        "  def forward(self, x):\n",
        "\n",
        "    x = F.relu(self.conv1(x))\n",
        "    x = self.pool1(x)\n",
        "    x = F.relu(self.conv2(x))\n",
        "    x = self.pool2(x)\n",
        "    x = x.view(-1, 16*4)\n",
        "    x = self.fc1(x)\n",
        "    return x\n",
        "\n",
        "cnn_mnist = CNN().to(device) "
      ]
    },
    {
      "cell_type": "code",
      "execution_count": 155,
      "metadata": {
        "colab": {
          "base_uri": "https://localhost:8080/"
        },
        "id": "tEtKymsdyySz",
        "outputId": "65f7784e-62c8-4397-fb73-5482e82d7f1b"
      },
      "outputs": [
        {
          "name": "stderr",
          "output_type": "stream",
          "text": [
            "100%|██████████| 79/79 [00:00<00:00, 427.75it/s]\n"
          ]
        },
        {
          "name": "stdout",
          "output_type": "stream",
          "text": [
            "Test set: Average loss: 1.2815, Accuracy: 768/1000 (77%)\n"
          ]
        },
        {
          "name": "stderr",
          "output_type": "stream",
          "text": [
            "100%|██████████| 79/79 [00:00<00:00, 477.13it/s]\n"
          ]
        },
        {
          "name": "stdout",
          "output_type": "stream",
          "text": [
            "Test set: Average loss: 0.4827, Accuracy: 870/1000 (87%)\n"
          ]
        },
        {
          "name": "stderr",
          "output_type": "stream",
          "text": [
            "100%|██████████| 79/79 [00:00<00:00, 490.06it/s]\n"
          ]
        },
        {
          "name": "stdout",
          "output_type": "stream",
          "text": [
            "Test set: Average loss: 0.3125, Accuracy: 913/1000 (91%)\n"
          ]
        },
        {
          "name": "stderr",
          "output_type": "stream",
          "text": [
            "100%|██████████| 79/79 [00:00<00:00, 487.03it/s]\n"
          ]
        },
        {
          "name": "stdout",
          "output_type": "stream",
          "text": [
            "Test set: Average loss: 0.2501, Accuracy: 938/1000 (94%)\n"
          ]
        },
        {
          "name": "stderr",
          "output_type": "stream",
          "text": [
            "100%|██████████| 79/79 [00:00<00:00, 456.36it/s]\n"
          ]
        },
        {
          "name": "stdout",
          "output_type": "stream",
          "text": [
            "Test set: Average loss: 0.2148, Accuracy: 949/1000 (95%)\n"
          ]
        },
        {
          "name": "stderr",
          "output_type": "stream",
          "text": [
            "100%|██████████| 79/79 [00:00<00:00, 482.06it/s]\n"
          ]
        },
        {
          "name": "stdout",
          "output_type": "stream",
          "text": [
            "Test set: Average loss: 0.1931, Accuracy: 955/1000 (96%)\n"
          ]
        },
        {
          "name": "stderr",
          "output_type": "stream",
          "text": [
            "100%|██████████| 79/79 [00:00<00:00, 485.35it/s]\n"
          ]
        },
        {
          "name": "stdout",
          "output_type": "stream",
          "text": [
            "Test set: Average loss: 0.1791, Accuracy: 955/1000 (96%)\n"
          ]
        },
        {
          "name": "stderr",
          "output_type": "stream",
          "text": [
            "100%|██████████| 79/79 [00:00<00:00, 466.52it/s]\n"
          ]
        },
        {
          "name": "stdout",
          "output_type": "stream",
          "text": [
            "Test set: Average loss: 0.1686, Accuracy: 958/1000 (96%)\n"
          ]
        },
        {
          "name": "stderr",
          "output_type": "stream",
          "text": [
            "100%|██████████| 79/79 [00:00<00:00, 468.07it/s]\n"
          ]
        },
        {
          "name": "stdout",
          "output_type": "stream",
          "text": [
            "Test set: Average loss: 0.1604, Accuracy: 962/1000 (96%)\n"
          ]
        },
        {
          "name": "stderr",
          "output_type": "stream",
          "text": [
            "100%|██████████| 79/79 [00:00<00:00, 445.87it/s]"
          ]
        },
        {
          "name": "stdout",
          "output_type": "stream",
          "text": [
            "Test set: Average loss: 0.1537, Accuracy: 964/1000 (96%)\n",
            "time: 1.7907872200012207\n"
          ]
        },
        {
          "name": "stderr",
          "output_type": "stream",
          "text": [
            "\n"
          ]
        }
      ],
      "source": [
        "from time import time\n",
        "criterion = nn.CrossEntropyLoss()\n",
        "optimizer = optim.Adam(cnn_mnist.parameters(), lr=0.001, betas=(0.9, 0.999), eps=1e-08, weight_decay=0)\n",
        "test_error = []\n",
        "train_error = []\n",
        "start = time()\n",
        "for i in range(n_epoch):\n",
        "  error = train(cnn_mnist, device, mnist_train_loader, optimizer, criterion)\n",
        "  acc =test(cnn_mnist, device, mnist_valid_loader, criterion)\n",
        "  test_error.append(acc)\n",
        "  train_error.append(error)\n",
        "end = time()\n",
        "print('time:', end-start)\n"
      ]
    },
    {
      "cell_type": "code",
      "execution_count": null,
      "metadata": {},
      "outputs": [],
      "source": []
    },
    {
      "cell_type": "code",
      "execution_count": 156,
      "metadata": {
        "colab": {
          "base_uri": "https://localhost:8080/"
        },
        "id": "4Pl6XNsF0CVH",
        "outputId": "4869ea6e-bb1a-4033-d8c5-dc1357c4ed4e"
      },
      "outputs": [
        {
          "data": {
            "image/png": "[encoded data removed]",
            "text/plain": [
              "<Figure size 432x288 with 1 Axes>"
            ]
          },
          "metadata": {
            "needs_background": "light"
          },
          "output_type": "display_data"
        },
        {
          "data": {
            "image/png": "[encoded data removed]",
            "text/plain": [
              "<Figure size 432x288 with 1 Axes>"
            ]
          },
          "metadata": {
            "needs_background": "light"
          },
          "output_type": "display_data"
        }
      ],
      "source": [
        "import matplotlib.pyplot as plt\n",
        "plt.plot(train_error)\n",
        "plt.title('model1 train error')\n",
        "plt.ylabel('error rate')\n",
        "plt.xlabel('epoch')\n",
        "plt.savefig('model1 train error.png')\n",
        "plt.show()\n",
        "plt.plot(test_error)\n",
        "plt.title('model1 test error')\n",
        "plt.ylabel('error rate')\n",
        "plt.xlabel('epoch')\n",
        "plt.savefig('model1 test error.png')\n",
        "plt.show()"
      ]
    },
    {
      "cell_type": "code",
      "execution_count": 157,
      "metadata": {},
      "outputs": [],
      "source": [
        "class CNN1(nn.Module):\n",
        "  def __init__(self):\n",
        "    super().__init__()\n",
        "    self.conv1 = nn.Conv2d(1, 32, kernel_size=3, stride=1)\n",
        "    self.pool1 = nn.MaxPool2d(kernel_size=2, stride=2)\n",
        "    self.fc1 = nn.Linear(1152, 10)\n",
        "\n",
        "\n",
        "\n",
        "  def forward(self, x):\n",
        "\n",
        "    x = F.relu(self.conv1(x))\n",
        "    x = self.pool1(x)\n",
        "    x = x.view(-1, 1152)\n",
        "    x = self.fc1(x)\n",
        "    return x\n",
        "\n",
        "cnn_mnist1 = CNN1().to(device) "
      ]
    },
    {
      "cell_type": "code",
      "execution_count": 158,
      "metadata": {},
      "outputs": [
        {
          "name": "stderr",
          "output_type": "stream",
          "text": [
            "100%|██████████| 79/79 [00:00<00:00, 580.34it/s]\n"
          ]
        },
        {
          "name": "stdout",
          "output_type": "stream",
          "text": [
            "Test set: Average loss: 0.5975, Accuracy: 911/1000 (91%)\n",
            "time: 0.007803678512573242\n"
          ]
        },
        {
          "name": "stderr",
          "output_type": "stream",
          "text": [
            "100%|██████████| 79/79 [00:00<00:00, 610.83it/s]\n"
          ]
        },
        {
          "name": "stdout",
          "output_type": "stream",
          "text": [
            "Test set: Average loss: 0.2993, Accuracy: 934/1000 (93%)\n",
            "time: 0.007651329040527344\n"
          ]
        },
        {
          "name": "stderr",
          "output_type": "stream",
          "text": [
            "100%|██████████| 79/79 [00:00<00:00, 620.00it/s]\n"
          ]
        },
        {
          "name": "stdout",
          "output_type": "stream",
          "text": [
            "Test set: Average loss: 0.2253, Accuracy: 947/1000 (95%)\n",
            "time: 0.006420612335205078\n"
          ]
        },
        {
          "name": "stderr",
          "output_type": "stream",
          "text": [
            "100%|██████████| 79/79 [00:00<00:00, 586.58it/s]\n"
          ]
        },
        {
          "name": "stdout",
          "output_type": "stream",
          "text": [
            "Test set: Average loss: 0.1909, Accuracy: 955/1000 (96%)\n",
            "time: 0.007692575454711914\n"
          ]
        },
        {
          "name": "stderr",
          "output_type": "stream",
          "text": [
            "100%|██████████| 79/79 [00:00<00:00, 629.88it/s]\n"
          ]
        },
        {
          "name": "stdout",
          "output_type": "stream",
          "text": [
            "Test set: Average loss: 0.1711, Accuracy: 964/1000 (96%)\n",
            "time: 0.007451057434082031\n"
          ]
        },
        {
          "name": "stderr",
          "output_type": "stream",
          "text": [
            "100%|██████████| 79/79 [00:00<00:00, 606.75it/s]\n"
          ]
        },
        {
          "name": "stdout",
          "output_type": "stream",
          "text": [
            "Test set: Average loss: 0.1580, Accuracy: 961/1000 (96%)\n",
            "time: 0.007108449935913086\n"
          ]
        },
        {
          "name": "stderr",
          "output_type": "stream",
          "text": [
            "100%|██████████| 79/79 [00:00<00:00, 542.02it/s]\n"
          ]
        },
        {
          "name": "stdout",
          "output_type": "stream",
          "text": [
            "Test set: Average loss: 0.1491, Accuracy: 965/1000 (96%)\n",
            "time: 0.007023811340332031\n"
          ]
        },
        {
          "name": "stderr",
          "output_type": "stream",
          "text": [
            "100%|██████████| 79/79 [00:00<00:00, 604.04it/s]\n"
          ]
        },
        {
          "name": "stdout",
          "output_type": "stream",
          "text": [
            "Test set: Average loss: 0.1425, Accuracy: 967/1000 (97%)\n",
            "time: 0.007817506790161133\n"
          ]
        },
        {
          "name": "stderr",
          "output_type": "stream",
          "text": [
            "100%|██████████| 79/79 [00:00<00:00, 579.29it/s]\n"
          ]
        },
        {
          "name": "stdout",
          "output_type": "stream",
          "text": [
            "Test set: Average loss: 0.1373, Accuracy: 968/1000 (97%)\n",
            "time: 0.006600856781005859\n"
          ]
        },
        {
          "name": "stderr",
          "output_type": "stream",
          "text": [
            "100%|██████████| 79/79 [00:00<00:00, 537.00it/s]"
          ]
        },
        {
          "name": "stdout",
          "output_type": "stream",
          "text": [
            "Test set: Average loss: 0.1329, Accuracy: 972/1000 (97%)\n",
            "time: 0.007752895355224609\n"
          ]
        },
        {
          "name": "stderr",
          "output_type": "stream",
          "text": [
            "\n"
          ]
        }
      ],
      "source": [
        "criterion = nn.CrossEntropyLoss()\n",
        "optimizer = optim.Adam(cnn_mnist1.parameters(), lr=0.001, betas=(0.9, 0.999), eps=1e-08, weight_decay=0)\n",
        "test_error = []\n",
        "train_error = []\n",
        "\n",
        "for i in range(n_epoch):\n",
        "  error = train(cnn_mnist1, device, mnist_train_loader, optimizer, criterion)\n",
        "  start = time()\n",
        "  acc =test(cnn_mnist1, device, mnist_valid_loader, criterion)\n",
        "  end = time()\n",
        "  print('time:', end-start)\n",
        "  test_error.append(acc)\n",
        "  train_error.append(error)\n",
        "\n"
      ]
    },
    {
      "cell_type": "code",
      "execution_count": null,
      "metadata": {},
      "outputs": [],
      "source": []
    },
    {
      "cell_type": "code",
      "execution_count": 159,
      "metadata": {},
      "outputs": [
        {
          "data": {
            "image/png": "[encoded data removed]",
            "text/plain": [
              "<Figure size 432x288 with 1 Axes>"
            ]
          },
          "metadata": {
            "needs_background": "light"
          },
          "output_type": "display_data"
        },
        {
          "data": {
            "image/png": "[encoded data removed]",
            "text/plain": [
              "<Figure size 432x288 with 1 Axes>"
            ]
          },
          "metadata": {
            "needs_background": "light"
          },
          "output_type": "display_data"
        }
      ],
      "source": [
        "import matplotlib.pyplot as plt\n",
        "plt.plot(train_error)\n",
        "plt.title('model2 train error')\n",
        "plt.ylabel('error rate')\n",
        "plt.xlabel('epoch')\n",
        "plt.savefig('model2 train error.png')\n",
        "plt.show()\n",
        "plt.plot(test_error)\n",
        "plt.title('model2 test error')\n",
        "plt.ylabel('error rate')\n",
        "plt.xlabel('epoch')\n",
        "plt.savefig('model2 test error.png')\n",
        "plt.show()"
      ]
    }
  ],
  "metadata": {
    "accelerator": "GPU",
    "colab": {
      "provenance": []
    },
    "gpuClass": "standard",
    "kernelspec": {
      "display_name": "Python 3 (ipykernel)",
      "language": "python",
      "name": "python3"
    },
    "language_info": {
      "codemirror_mode": {
        "name": "ipython",
        "version": 3
      },
      "file_extension": ".py",
      "mimetype": "text/x-python",
      "name": "python",
      "nbconvert_exporter": "python",
      "pygments_lexer": "ipython3",
      "version": "3.8.13"
    }
  },
  "nbformat": 4,
  "nbformat_minor": 0
}
