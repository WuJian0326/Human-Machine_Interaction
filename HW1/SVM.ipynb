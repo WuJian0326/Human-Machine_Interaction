{
 "cells": [
  {
   "cell_type": "code",
   "execution_count": 1,
   "id": "bab812c4",
   "metadata": {},
   "outputs": [],
   "source": [
    "import mnist\n",
    "import numpy as np\n",
    "from sklearn.decomposition import PCA\n",
    "import matplotlib.pyplot as plt\n",
    "\n",
    "mndata = mnist.MNIST('mnist')\n",
    "train_img, train_label = mndata.load_training()\n",
    "test_img, test_label = mndata.load_testing()\n",
    "\n",
    "train_images, train_labels = np.array(train_img, dtype=np.float64), np.array(train_label)\n",
    "test_images, test_labels = np.array(test_img, dtype=np.float64), np.array(test_label)"
   ]
  },
  {
   "cell_type": "code",
   "execution_count": 31,
   "id": "70c3e4db",
   "metadata": {},
   "outputs": [],
   "source": [
    "train_img = []\n",
    "train_label = []\n",
    "test_img = []\n",
    "test_label = []\n",
    "\n",
    "for i in range(10):\n",
    "    idx = np.where(train_labels == i)[0][:1000]\n",
    "    for j in idx:\n",
    "        train_img.append(train_images[j])\n",
    "        train_label.append(i)\n",
    "\n",
    "for i in range(10):\n",
    "    idx = np.where(test_labels == i)[0][:100]\n",
    "    for j in idx:\n",
    "        test_img.append(test_images[j])\n",
    "        test_label.append(i)"
   ]
  },
  {
   "cell_type": "code",
   "execution_count": 32,
   "id": "10d97bfc",
   "metadata": {},
   "outputs": [
    {
     "name": "stdout",
     "output_type": "stream",
     "text": [
      "(1000, 784)\n",
      "(10000, 784)\n"
     ]
    }
   ],
   "source": [
    "print(np.array(test_img).shape)\n",
    "print(np.array(train_img).shape)"
   ]
  },
  {
   "cell_type": "code",
   "execution_count": 33,
   "id": "dd397f5e",
   "metadata": {},
   "outputs": [
    {
     "name": "stdout",
     "output_type": "stream",
     "text": [
      "Training time: 0.5336 seconds\n",
      "Testing time: 0.1513 seconds\n",
      "Accuracy score: 0.9420\n"
     ]
    }
   ],
   "source": [
    "from sklearn.svm import SVC\n",
    "from sklearn.decomposition import PCA\n",
    "from sklearn.metrics import accuracy_score\n",
    "import time\n",
    "\n",
    "n_components = 16\n",
    "\n",
    "# Fit PCA on training images\n",
    "pca = PCA(n_components=n_components)\n",
    "train_img_pca = pca.fit_transform(train_img)\n",
    "\n",
    "# Train SVM classifier\n",
    "start_time = time.time()\n",
    "svm = SVC()\n",
    "svm.fit(train_img_pca, train_label)\n",
    "train_time = time.time() - start_time\n",
    "\n",
    "# Project test images onto PCA space\n",
    "test_img_pca = pca.transform(test_img)\n",
    "\n",
    "# Predict test labels using SVM classifier\n",
    "start_time = time.time()\n",
    "pred_label = svm.predict(test_img_pca)\n",
    "test_time = time.time() - start_time\n",
    "\n",
    "# Calculate accuracy score\n",
    "accuracy = accuracy_score(test_label, pred_label)\n",
    "\n",
    "print(f'Training time: {train_time:.4f} seconds')\n",
    "print(f'Testing time: {test_time:.4f} seconds')\n",
    "print(f'Accuracy score: {accuracy:.4f}')"
   ]
  },
  {
   "cell_type": "code",
   "execution_count": 34,
   "id": "7a3c5e22",
   "metadata": {},
   "outputs": [
    {
     "name": "stdout",
     "output_type": "stream",
     "text": [
      "(10000, 784)\n",
      "Training time: 2.65666 seconds\n",
      "Prediction time: 0.60522 seconds\n",
      "Accuracy: 90.60%\n"
     ]
    }
   ],
   "source": [
    "from sklearn.svm import SVC\n",
    "import time\n",
    "\n",
    "# Reshape train and test data to 2D arrays\n",
    "train_img = np.array(train_img)\n",
    "test_img = np.array(test_img)\n",
    "\n",
    "\n",
    "print(train_img.shape)\n",
    "# Train SVM on train data\n",
    "start_time = time.time()\n",
    "svm = SVC(kernel='linear', C=1)\n",
    "svm.fit(train_img, train_label)\n",
    "train_time = time.time() - start_time\n",
    "\n",
    "# Predict labels of test data\n",
    "start_time = time.time()\n",
    "pred_label = svm.predict(test_img)\n",
    "predict_time = time.time() - start_time\n",
    "\n",
    "# Calculate classification accuracy\n",
    "accuracy = np.mean(pred_label == test_label) * 100\n",
    "\n",
    "print(f\"Training time: {train_time:.5f} seconds\")\n",
    "print(f\"Prediction time: {predict_time:.5f} seconds\")\n",
    "print(f\"Accuracy: {accuracy:.2f}%\")"
   ]
  },
  {
   "cell_type": "code",
   "execution_count": null,
   "id": "5ae117ae",
   "metadata": {},
   "outputs": [],
   "source": []
  }
 ],
 "metadata": {
  "kernelspec": {
   "display_name": "Python 3 (ipykernel)",
   "language": "python",
   "name": "python3"
  },
  "language_info": {
   "codemirror_mode": {
    "name": "ipython",
    "version": 3
   },
   "file_extension": ".py",
   "mimetype": "text/x-python",
   "name": "python",
   "nbconvert_exporter": "python",
   "pygments_lexer": "ipython3",
   "version": "3.7.16"
  }
 },
 "nbformat": 4,
 "nbformat_minor": 5
}
